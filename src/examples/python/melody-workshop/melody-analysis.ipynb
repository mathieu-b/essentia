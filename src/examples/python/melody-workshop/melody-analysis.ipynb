{
 "metadata": {
  "name": "",
  "signature": "sha256:e1254c2cd621add90096207700d83e09e92be3a8dbef1c764df3bfc318be5859"
 },
 "nbformat": 3,
 "nbformat_minor": 0,
 "worksheets": [
  {
   "cells": [
    {
     "cell_type": "heading",
     "level": 1,
     "metadata": {},
     "source": [
      "Melody analysis - MusicBricks Workshop"
     ]
    },
    {
     "cell_type": "heading",
     "level": 2,
     "metadata": {},
     "source": [
      "Introduction"
     ]
    },
    {
     "cell_type": "markdown",
     "metadata": {},
     "source": [
      "This tutorial will guide you through some tools for Melody Analysis using the Essentia library (http://www.essentia.upf.edu). Melody analysis tools will extract a pitch curve from a monophonic or polyphonic audio recording. It  outputs a time series (sequence of values) with the instantaneous pitch value (in Hertz) of the perceived melody. \n",
      "We provide two different operation modes: \n",
      "   1) using executable binaries; \n",
      "   2) Using Python wrappers.  \n"
     ]
    },
    {
     "cell_type": "heading",
     "level": 2,
     "metadata": {},
     "source": [
      "Using executable binaries"
     ]
    },
    {
     "cell_type": "markdown",
     "metadata": {},
     "source": [
      "You can download the executable binaries for Linux (Ubuntu 14) and OSX in this link: http://tinyurl.com/melody-mbricks\n",
      "To execute the binaries you need to specify the input audio file and an output YAML file, where the melody values will be stored."
     ]
    },
    {
     "cell_type": "heading",
     "level": 4,
     "metadata": {},
     "source": [
      "Extracting melody from monophonic audio"
     ]
    },
    {
     "cell_type": "markdown",
     "metadata": {},
     "source": [
      "Locate an audio file to be processed in WAV format (input_audiofile)."
     ]
    },
    {
     "cell_type": "markdown",
     "metadata": {},
     "source": [
      "Usage: ./streaming_pitchyinfft input_audiofile output_yamlfile "
     ]
    },
    {
     "cell_type": "heading",
     "level": 4,
     "metadata": {},
     "source": [
      "Extracting melody from polyphonic audio"
     ]
    },
    {
     "cell_type": "markdown",
     "metadata": {},
     "source": [
      "Usage: ./streaming_predominantmelody input_audiofile output_yamlfile "
     ]
    },
    {
     "cell_type": "heading",
     "level": 2,
     "metadata": {},
     "source": [
      "Using Python wrappers"
     ]
    },
    {
     "cell_type": "markdown",
     "metadata": {},
     "source": [
      "You should first install the Essentia library with Python bindings. Installation instructions are detailed here: http://essentia.upf.edu/documentation/installing.html . \n"
     ]
    },
    {
     "cell_type": "code",
     "collapsed": false,
     "input": [
      "print 'Hello this is Melody analysis'"
     ],
     "language": "python",
     "metadata": {},
     "outputs": [
      {
       "output_type": "stream",
       "stream": "stdout",
       "text": [
        "Hello this is Melody analysis\n"
       ]
      }
     ],
     "prompt_number": 1
    }
   ],
   "metadata": {}
  }
 ]
}